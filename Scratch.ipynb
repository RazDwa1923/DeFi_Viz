{
 "cells": [
  {
   "cell_type": "code",
   "execution_count": 6,
   "id": "6aada6c0ef2ecb60",
   "metadata": {
    "collapsed": true,
    "ExecuteTime": {
     "end_time": "2023-09-14T04:53:13.951643Z",
     "start_time": "2023-09-14T04:53:09.897729Z"
    }
   },
   "outputs": [
    {
     "data": {
      "text/plain": "          date  pool\n0   2023-01-04   475\n1   2023-01-11   477\n2   2023-01-18   473\n3   2023-01-25   536\n4   2023-02-01   589\n..         ...   ...\n134 2023-09-10  1459\n135 2023-09-11  1458\n136 2023-09-12  1458\n137 2023-09-13  1465\n138 2023-09-14  1476\n\n[139 rows x 2 columns]",
      "text/html": "<div>\n<style scoped>\n    .dataframe tbody tr th:only-of-type {\n        vertical-align: middle;\n    }\n\n    .dataframe tbody tr th {\n        vertical-align: top;\n    }\n\n    .dataframe thead th {\n        text-align: right;\n    }\n</style>\n<table border=\"1\" class=\"dataframe\">\n  <thead>\n    <tr style=\"text-align: right;\">\n      <th></th>\n      <th>date</th>\n      <th>pool</th>\n    </tr>\n  </thead>\n  <tbody>\n    <tr>\n      <th>0</th>\n      <td>2023-01-04</td>\n      <td>475</td>\n    </tr>\n    <tr>\n      <th>1</th>\n      <td>2023-01-11</td>\n      <td>477</td>\n    </tr>\n    <tr>\n      <th>2</th>\n      <td>2023-01-18</td>\n      <td>473</td>\n    </tr>\n    <tr>\n      <th>3</th>\n      <td>2023-01-25</td>\n      <td>536</td>\n    </tr>\n    <tr>\n      <th>4</th>\n      <td>2023-02-01</td>\n      <td>589</td>\n    </tr>\n    <tr>\n      <th>...</th>\n      <td>...</td>\n      <td>...</td>\n    </tr>\n    <tr>\n      <th>134</th>\n      <td>2023-09-10</td>\n      <td>1459</td>\n    </tr>\n    <tr>\n      <th>135</th>\n      <td>2023-09-11</td>\n      <td>1458</td>\n    </tr>\n    <tr>\n      <th>136</th>\n      <td>2023-09-12</td>\n      <td>1458</td>\n    </tr>\n    <tr>\n      <th>137</th>\n      <td>2023-09-13</td>\n      <td>1465</td>\n    </tr>\n    <tr>\n      <th>138</th>\n      <td>2023-09-14</td>\n      <td>1476</td>\n    </tr>\n  </tbody>\n</table>\n<p>139 rows × 2 columns</p>\n</div>"
     },
     "execution_count": 6,
     "metadata": {},
     "output_type": "execute_result"
    }
   ],
   "source": [
    "# Import libraries and dependencies\n",
    "import pandas as pd\n",
    "\n",
    "\n",
    "data = pd.read_csv(r'/Users/karolk/Python_Work/Data_Sets/Global_Data/DeFi_Global_DB.csv', index_col=0)\n",
    "pd.set_option(\"display.max.columns\", None)\n",
    "pd.set_option(\"display.precision\", 4)\n",
    "pd.options.display.float_format = '{:,.2f}'.format\n",
    "\n",
    "# making sure date is in datetime format\n",
    "data['date'] = pd.to_datetime(data['date'])\n",
    "\n",
    "# select all data for arbitrum chain\n",
    "data = data[data['chain'] == 'Arbitrum']\n",
    "\n",
    "# create a table with the number of Arbitrum pools per day\n",
    "pools = data.groupby('date')['pool'].nunique().reset_index()\n",
    "\n",
    "pools\n"
   ]
  },
  {
   "cell_type": "code",
   "execution_count": 24,
   "outputs": [],
   "source": [
    "\n",
    "\n"
   ],
   "metadata": {
    "collapsed": false,
    "ExecuteTime": {
     "end_time": "2023-08-13T06:32:51.396282Z",
     "start_time": "2023-08-13T06:32:51.392115Z"
    }
   },
   "id": "initial_id"
  },
  {
   "cell_type": "code",
   "execution_count": null,
   "outputs": [],
   "source": [],
   "metadata": {
    "collapsed": false,
    "ExecuteTime": {
     "end_time": "2023-09-14T04:49:19.671333Z",
     "start_time": "2023-09-14T04:49:19.669670Z"
    }
   },
   "id": "7d323864b295a133"
  }
 ],
 "metadata": {
  "kernelspec": {
   "display_name": "Python 3",
   "language": "python",
   "name": "python3"
  },
  "language_info": {
   "codemirror_mode": {
    "name": "ipython",
    "version": 2
   },
   "file_extension": ".py",
   "mimetype": "text/x-python",
   "name": "python",
   "nbconvert_exporter": "python",
   "pygments_lexer": "ipython2",
   "version": "2.7.6"
  }
 },
 "nbformat": 4,
 "nbformat_minor": 5
}
