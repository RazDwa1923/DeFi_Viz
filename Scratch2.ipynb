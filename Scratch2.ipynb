{
 "cells": [
  {
   "cell_type": "code",
   "execution_count": null,
   "id": "initial_id",
   "metadata": {
    "collapsed": true
   },
   "outputs": [],
   "source": [
    "# creating data for non-stablecoin pools\n",
    "\n",
    "# preparing the required cuts of data for all charts\n",
    "\n",
    "# creating dataframe with all stablecoin pools\n",
    "non_stable_pools = data[data['stablecoin'] == False]\n",
    "\n",
    "# selecting only non-stablecoin pools with over 10M in TVL\n",
    "non_stable_pools = non_stable_pools[non_stable_pools['tvlUsd'] > 10000000]\n",
    "\n",
    "# create a new column in non_stable_pools which calculated the z-score of the 7 day APY\n",
    "non_stable_pools['z_score'] = (non_stable_pools['apyMean7d'] - non_stable_pools['apyMean7d'].mean())/non_stable_pools['apyMean7d'].std(ddof=0)\n",
    "\n",
    "# remove all rows where z-score is greater than 3\n",
    "non_stable_pools = non_stable_pools[non_stable_pools['z_score'] < 3]\n",
    "\n",
    "# remove all rows where z-score is less than -3\n",
    "non_stable_pools = non_stable_pools[non_stable_pools['z_score'] > -3]\n",
    "\n",
    "\n",
    "\n",
    "# selecting only stablecoin pools data for latest date\n",
    "non_stable_pools_latest = non_stable_pools[non_stable_pools['date'] == non_stable_pools['date'].max()]\n",
    "\n",
    "# creating a dataframe with 10 largest blockchains by TVL in the stabelcoin latest data\n",
    "non_stable_pools_latest_10 = non_stable_pools_latest.groupby('chain').sum('tvlUsd').sort_values('tvlUsd', ascending=False).head(10).reset_index()\n",
    "\n",
    "# creating a list of largest blockchains from non_stable_pools_latest_10\n",
    "non_stable_pools_latest_10_list = non_stable_pools_latest_10['chain'].to_list()\n",
    "\n",
    "# creating a pivot table with the 25 largest projects by TVL in the stablecoin latest data\n",
    "non_stable_pools_latest_25 = non_stable_pools_latest.pivot_table(index='project', values='tvlUsd', aggfunc='sum').sort_values('tvlUsd', ascending=False).head(25).reset_index()\n",
    "\n",
    "# creating a list of largest projects from non_stable_pools_latest_25\n",
    "non_stable_pools_latest_25_list = non_stable_pools_latest_25['project'].to_list()\n",
    "\n",
    "# creating a new dataframe that has the stablecoin pools data latest for only the 10 largest blockchains\n",
    "non_stable_pools_latest_10 = non_stable_pools_latest[non_stable_pools_latest['chain'].isin(non_stable_pools_latest_10_list)]\n",
    "\n",
    "# creating a new dataframe that has the stablecoin pools data latest for only the 25 largest projects\n",
    "non_stable_pools_latest_25 = non_stable_pools_latest[non_stable_pools_latest['project'].isin(non_stable_pools_latest_25_list)]"
   ]
  }
 ],
 "metadata": {
  "kernelspec": {
   "display_name": "Python 3",
   "language": "python",
   "name": "python3"
  },
  "language_info": {
   "codemirror_mode": {
    "name": "ipython",
    "version": 2
   },
   "file_extension": ".py",
   "mimetype": "text/x-python",
   "name": "python",
   "nbconvert_exporter": "python",
   "pygments_lexer": "ipython2",
   "version": "2.7.6"
  }
 },
 "nbformat": 4,
 "nbformat_minor": 5
}
