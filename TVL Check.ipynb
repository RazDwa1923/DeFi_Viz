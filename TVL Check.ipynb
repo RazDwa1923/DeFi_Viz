{
 "cells": [
  {
   "cell_type": "code",
   "execution_count": 16,
   "id": "initial_id",
   "metadata": {
    "collapsed": true,
    "ExecuteTime": {
     "end_time": "2023-11-15T04:52:58.713684Z",
     "start_time": "2023-11-15T04:52:52.604396Z"
    }
   },
   "outputs": [],
   "source": [
    "# Importing libraries and dependencies\n",
    "import pandas as pd\n",
    "import seaborn as sns\n",
    "import numpy as np\n",
    "import matplotlib.pyplot as plt\n",
    "import matplotlib.font_manager as font_manager\n",
    "from PIL import Image\n",
    "from io import BytesIO\n",
    "from matplotlib.offsetbox import (OffsetImage, AnnotationBbox)\n",
    "from datetime import timedelta\n",
    "import matplotlib.dates as mdates\n",
    "\n",
    "#importing data\n",
    "\n",
    "data = pd.read_csv(r'/Users/karolk/Python_Work/Data_Sets/Global_Data/DeFi_Global_DB.csv', index_col=0)\n",
    "pd.set_option(\"display.max.columns\", None)\n",
    "pd.set_option(\"display.precision\", 4)\n",
    "pd.options.display.float_format = '{:,.2f}'.format\n",
    "\n",
    "# remove 'camelot-v2' project from dataset\n",
    "data = data[data['project'] != 'camelot-v2']"
   ]
  },
  {
   "cell_type": "code",
   "execution_count": 17,
   "outputs": [
    {
     "name": "stderr",
     "output_type": "stream",
     "text": [
      "/var/folders/gn/b1hbt5mx3mg2y8p3tgg7g7xh0000gn/T/ipykernel_2021/3598419691.py:12: SettingWithCopyWarning: \n",
      "A value is trying to be set on a copy of a slice from a DataFrame.\n",
      "Try using .loc[row_indexer,col_indexer] = value instead\n",
      "\n",
      "See the caveats in the documentation: https://pandas.pydata.org/pandas-docs/stable/user_guide/indexing.html#returning-a-view-versus-a-copy\n",
      "  time_data['date'] = time_data['date'].replace(min_date, '2023-01-01')\n"
     ]
    }
   ],
   "source": [
    "#modifying the data set to make sure 'date' is in datetime format and a new column for pools which are one-sided ETH pools\n",
    "data['eth_one_sided'] = np.where((data['symbol'].str.contains('eth', case=False, na=False)) & (data['ilRisk'] == 'no'), True, False)\n",
    "data['date'] = pd.to_datetime(data['date'])\n",
    "\n",
    "#selecting only the colums needed to create the visualizations\n",
    "time_data = data[['date', 'chain', 'project', 'pool', 'tvlUsd', 'stablecoin', 'outlier', 'exposure', 'eth_one_sided']]\n",
    "\n",
    "#find the min of the date column\n",
    "min_date = time_data['date'].min()\n",
    "\n",
    "#change the smallest date in the date column to '2023-01-01'\n",
    "time_data['date'] = time_data['date'].replace(min_date, '2023-01-01')\n",
    "\n",
    "#create a variable called start of year which is the min date of the date column\n",
    "start_of_year = time_data['date'].min()\n",
    "\n",
    "#cleaning up the data by removing outliers and pools with no TVL\n",
    "time_data = time_data[time_data['tvlUsd'] > 0]\n",
    "\n",
    "# setting the date field in time to datetime\n",
    "time_data['date'] = pd.to_datetime(time_data['date'])\n",
    "\n",
    "#creating a list for liquid staking pools\n",
    "liquid_stakers = ['lido', 'rocket-pool', 'coinbase-wrapped-staked-eth', 'stakewise', 'frax-ether', 'stafi', 'stakehound', 'stader', 'bitfrost-liquid-staking', 'binance-staked-eth', 'swell', 'ankr']\n",
    "\n",
    "#create a new column in 'time_data' that is 'True' if the project is in the liquid_stakers list\n",
    "time_data['liquid_staker'] = time_data['project'].isin(liquid_stakers)\n",
    "\n"
   ],
   "metadata": {
    "collapsed": false,
    "ExecuteTime": {
     "end_time": "2023-11-15T04:53:00.653214Z",
     "start_time": "2023-11-15T04:52:58.831530Z"
    }
   },
   "id": "5ed24390cbe1a11d"
  },
  {
   "cell_type": "code",
   "execution_count": 30,
   "outputs": [
    {
     "data": {
      "text/plain": "           date chain          project                                  pool  \\\nid                                                                             \n27   2023-11-15   BSC  venus-core-pool  87c8ee0d-b812-47c1-803f-f91a3907079e   \n38   2023-11-15   BSC  venus-core-pool  747b58ab-aefd-42e1-a312-01ad5a0ab7f5   \n108  2023-11-15   BSC  venus-core-pool  de8928ad-d03a-423d-92d7-3c4648e3ffd2   \n162  2023-11-15   BSC  venus-core-pool  9f3a6015-5045-4471-ba65-ad3dc7c38269   \n185  2023-11-15   BSC  venus-core-pool  b8872d86-c39e-423c-83dd-8b32f7eea91d   \n223  2023-11-15   BSC  venus-core-pool  88472ba3-f1e9-4da6-89da-eb12cf07e151   \n289  2023-11-15   BSC  venus-core-pool  89eba1e5-1b1b-47b6-958b-38138a04c244   \n490  2023-11-15   BSC  venus-core-pool  bd3e33f0-fa0f-4c4c-97d7-90f267808355   \n540  2023-11-15   BSC  venus-core-pool  0204c8ff-0805-4515-a27e-742d23a15719   \n607  2023-11-15   BSC  venus-core-pool  3cbdf078-5b0a-4483-8308-46e2f5f60c83   \n694  2023-11-15   BSC  venus-core-pool  6ef41a41-9394-4782-bf53-7648f50a4a93   \n865  2023-11-15   BSC  venus-core-pool  15cbd370-c6dd-4258-89a4-4623e17c2865   \n876  2023-11-15   BSC  venus-core-pool  1403642f-2083-4173-bfb9-979a44a75ec4   \n915  2023-11-15   BSC  venus-core-pool  0cd95e14-8383-4d42-855a-81a92149eee0   \n1273 2023-11-15   BSC  venus-core-pool  866ae932-54a6-4cf2-af45-2e70a94f2d09   \n1312 2023-11-15   BSC  venus-core-pool  b7a4bff7-812d-408e-bac1-3a20e6bc503f   \n1390 2023-11-15   BSC  venus-core-pool  422f1356-9e9c-471a-9641-135742da9891   \n1536 2023-11-15   BSC  venus-core-pool  c5e32cb4-6484-45de-9f46-88004793c352   \n2145 2023-11-15   BSC  venus-core-pool  2e3895f1-c990-4eb9-82ac-f5b16c236279   \n2165 2023-11-15   BSC  venus-core-pool  7e556b84-5836-4803-8204-081dedfd3e84   \n2389 2023-11-15   BSC  venus-core-pool  7f81b151-a769-45d3-ae54-ef378633f035   \n3786 2023-11-15   BSC  venus-core-pool  e4730d20-a5d5-4959-84ac-42fd32027294   \n5153 2023-11-15   BSC  venus-core-pool  7d26311d-e763-43d5-be17-6fd0d8e85b2b   \n6050 2023-11-15   BSC  venus-core-pool  f02223ca-a69e-47df-8795-6657a8f829ee   \n6822 2023-11-15   BSC  venus-core-pool  70a12369-29da-49ac-b4f2-27828b3a2087   \n\n             tvlUsd  stablecoin  outlier exposure  eth_one_sided  \\\nid                                                                 \n27   267,311,911.00       False    False   single          False   \n38   167,542,628.00       False    False   single          False   \n108   54,908,088.00       False    False   single           True   \n162   35,204,962.00        True    False   single          False   \n185   29,586,874.00       False    False   single           True   \n223   22,543,702.00       False    False   single          False   \n289   15,909,089.00        True    False   single          False   \n490    7,582,566.00       False    False   single          False   \n540    6,627,266.00       False    False   single          False   \n607    5,595,751.00       False    False   single          False   \n694    4,714,892.00       False    False   single          False   \n865    3,540,353.00       False    False   single          False   \n876    3,514,228.00       False    False   single          False   \n915    3,257,667.00       False    False   single          False   \n1273   2,091,220.00       False    False   single          False   \n1312   2,018,351.00       False    False   single          False   \n1390   1,845,267.00       False    False   single          False   \n1536   1,503,025.00       False    False   single          False   \n2145     898,775.00       False    False   single          False   \n2165     876,958.00       False    False   single           True   \n2389     743,956.00        True    False   single          False   \n3786     325,042.00       False    False   single          False   \n5153     177,823.00       False    False   single          False   \n6050     125,985.00        True    False   single          False   \n6822      86,700.00       False    False   single          False   \n\n      liquid_staker  \nid                   \n27            False  \n38            False  \n108           False  \n162           False  \n185           False  \n223           False  \n289           False  \n490           False  \n540           False  \n607           False  \n694           False  \n865           False  \n876           False  \n915           False  \n1273          False  \n1312          False  \n1390          False  \n1536          False  \n2145          False  \n2165          False  \n2389          False  \n3786          False  \n5153          False  \n6050          False  \n6822          False  ",
      "text/html": "<div>\n<style scoped>\n    .dataframe tbody tr th:only-of-type {\n        vertical-align: middle;\n    }\n\n    .dataframe tbody tr th {\n        vertical-align: top;\n    }\n\n    .dataframe thead th {\n        text-align: right;\n    }\n</style>\n<table border=\"1\" class=\"dataframe\">\n  <thead>\n    <tr style=\"text-align: right;\">\n      <th></th>\n      <th>date</th>\n      <th>chain</th>\n      <th>project</th>\n      <th>pool</th>\n      <th>tvlUsd</th>\n      <th>stablecoin</th>\n      <th>outlier</th>\n      <th>exposure</th>\n      <th>eth_one_sided</th>\n      <th>liquid_staker</th>\n    </tr>\n    <tr>\n      <th>id</th>\n      <th></th>\n      <th></th>\n      <th></th>\n      <th></th>\n      <th></th>\n      <th></th>\n      <th></th>\n      <th></th>\n      <th></th>\n      <th></th>\n    </tr>\n  </thead>\n  <tbody>\n    <tr>\n      <th>27</th>\n      <td>2023-11-15</td>\n      <td>BSC</td>\n      <td>venus-core-pool</td>\n      <td>87c8ee0d-b812-47c1-803f-f91a3907079e</td>\n      <td>267,311,911.00</td>\n      <td>False</td>\n      <td>False</td>\n      <td>single</td>\n      <td>False</td>\n      <td>False</td>\n    </tr>\n    <tr>\n      <th>38</th>\n      <td>2023-11-15</td>\n      <td>BSC</td>\n      <td>venus-core-pool</td>\n      <td>747b58ab-aefd-42e1-a312-01ad5a0ab7f5</td>\n      <td>167,542,628.00</td>\n      <td>False</td>\n      <td>False</td>\n      <td>single</td>\n      <td>False</td>\n      <td>False</td>\n    </tr>\n    <tr>\n      <th>108</th>\n      <td>2023-11-15</td>\n      <td>BSC</td>\n      <td>venus-core-pool</td>\n      <td>de8928ad-d03a-423d-92d7-3c4648e3ffd2</td>\n      <td>54,908,088.00</td>\n      <td>False</td>\n      <td>False</td>\n      <td>single</td>\n      <td>True</td>\n      <td>False</td>\n    </tr>\n    <tr>\n      <th>162</th>\n      <td>2023-11-15</td>\n      <td>BSC</td>\n      <td>venus-core-pool</td>\n      <td>9f3a6015-5045-4471-ba65-ad3dc7c38269</td>\n      <td>35,204,962.00</td>\n      <td>True</td>\n      <td>False</td>\n      <td>single</td>\n      <td>False</td>\n      <td>False</td>\n    </tr>\n    <tr>\n      <th>185</th>\n      <td>2023-11-15</td>\n      <td>BSC</td>\n      <td>venus-core-pool</td>\n      <td>b8872d86-c39e-423c-83dd-8b32f7eea91d</td>\n      <td>29,586,874.00</td>\n      <td>False</td>\n      <td>False</td>\n      <td>single</td>\n      <td>True</td>\n      <td>False</td>\n    </tr>\n    <tr>\n      <th>223</th>\n      <td>2023-11-15</td>\n      <td>BSC</td>\n      <td>venus-core-pool</td>\n      <td>88472ba3-f1e9-4da6-89da-eb12cf07e151</td>\n      <td>22,543,702.00</td>\n      <td>False</td>\n      <td>False</td>\n      <td>single</td>\n      <td>False</td>\n      <td>False</td>\n    </tr>\n    <tr>\n      <th>289</th>\n      <td>2023-11-15</td>\n      <td>BSC</td>\n      <td>venus-core-pool</td>\n      <td>89eba1e5-1b1b-47b6-958b-38138a04c244</td>\n      <td>15,909,089.00</td>\n      <td>True</td>\n      <td>False</td>\n      <td>single</td>\n      <td>False</td>\n      <td>False</td>\n    </tr>\n    <tr>\n      <th>490</th>\n      <td>2023-11-15</td>\n      <td>BSC</td>\n      <td>venus-core-pool</td>\n      <td>bd3e33f0-fa0f-4c4c-97d7-90f267808355</td>\n      <td>7,582,566.00</td>\n      <td>False</td>\n      <td>False</td>\n      <td>single</td>\n      <td>False</td>\n      <td>False</td>\n    </tr>\n    <tr>\n      <th>540</th>\n      <td>2023-11-15</td>\n      <td>BSC</td>\n      <td>venus-core-pool</td>\n      <td>0204c8ff-0805-4515-a27e-742d23a15719</td>\n      <td>6,627,266.00</td>\n      <td>False</td>\n      <td>False</td>\n      <td>single</td>\n      <td>False</td>\n      <td>False</td>\n    </tr>\n    <tr>\n      <th>607</th>\n      <td>2023-11-15</td>\n      <td>BSC</td>\n      <td>venus-core-pool</td>\n      <td>3cbdf078-5b0a-4483-8308-46e2f5f60c83</td>\n      <td>5,595,751.00</td>\n      <td>False</td>\n      <td>False</td>\n      <td>single</td>\n      <td>False</td>\n      <td>False</td>\n    </tr>\n    <tr>\n      <th>694</th>\n      <td>2023-11-15</td>\n      <td>BSC</td>\n      <td>venus-core-pool</td>\n      <td>6ef41a41-9394-4782-bf53-7648f50a4a93</td>\n      <td>4,714,892.00</td>\n      <td>False</td>\n      <td>False</td>\n      <td>single</td>\n      <td>False</td>\n      <td>False</td>\n    </tr>\n    <tr>\n      <th>865</th>\n      <td>2023-11-15</td>\n      <td>BSC</td>\n      <td>venus-core-pool</td>\n      <td>15cbd370-c6dd-4258-89a4-4623e17c2865</td>\n      <td>3,540,353.00</td>\n      <td>False</td>\n      <td>False</td>\n      <td>single</td>\n      <td>False</td>\n      <td>False</td>\n    </tr>\n    <tr>\n      <th>876</th>\n      <td>2023-11-15</td>\n      <td>BSC</td>\n      <td>venus-core-pool</td>\n      <td>1403642f-2083-4173-bfb9-979a44a75ec4</td>\n      <td>3,514,228.00</td>\n      <td>False</td>\n      <td>False</td>\n      <td>single</td>\n      <td>False</td>\n      <td>False</td>\n    </tr>\n    <tr>\n      <th>915</th>\n      <td>2023-11-15</td>\n      <td>BSC</td>\n      <td>venus-core-pool</td>\n      <td>0cd95e14-8383-4d42-855a-81a92149eee0</td>\n      <td>3,257,667.00</td>\n      <td>False</td>\n      <td>False</td>\n      <td>single</td>\n      <td>False</td>\n      <td>False</td>\n    </tr>\n    <tr>\n      <th>1273</th>\n      <td>2023-11-15</td>\n      <td>BSC</td>\n      <td>venus-core-pool</td>\n      <td>866ae932-54a6-4cf2-af45-2e70a94f2d09</td>\n      <td>2,091,220.00</td>\n      <td>False</td>\n      <td>False</td>\n      <td>single</td>\n      <td>False</td>\n      <td>False</td>\n    </tr>\n    <tr>\n      <th>1312</th>\n      <td>2023-11-15</td>\n      <td>BSC</td>\n      <td>venus-core-pool</td>\n      <td>b7a4bff7-812d-408e-bac1-3a20e6bc503f</td>\n      <td>2,018,351.00</td>\n      <td>False</td>\n      <td>False</td>\n      <td>single</td>\n      <td>False</td>\n      <td>False</td>\n    </tr>\n    <tr>\n      <th>1390</th>\n      <td>2023-11-15</td>\n      <td>BSC</td>\n      <td>venus-core-pool</td>\n      <td>422f1356-9e9c-471a-9641-135742da9891</td>\n      <td>1,845,267.00</td>\n      <td>False</td>\n      <td>False</td>\n      <td>single</td>\n      <td>False</td>\n      <td>False</td>\n    </tr>\n    <tr>\n      <th>1536</th>\n      <td>2023-11-15</td>\n      <td>BSC</td>\n      <td>venus-core-pool</td>\n      <td>c5e32cb4-6484-45de-9f46-88004793c352</td>\n      <td>1,503,025.00</td>\n      <td>False</td>\n      <td>False</td>\n      <td>single</td>\n      <td>False</td>\n      <td>False</td>\n    </tr>\n    <tr>\n      <th>2145</th>\n      <td>2023-11-15</td>\n      <td>BSC</td>\n      <td>venus-core-pool</td>\n      <td>2e3895f1-c990-4eb9-82ac-f5b16c236279</td>\n      <td>898,775.00</td>\n      <td>False</td>\n      <td>False</td>\n      <td>single</td>\n      <td>False</td>\n      <td>False</td>\n    </tr>\n    <tr>\n      <th>2165</th>\n      <td>2023-11-15</td>\n      <td>BSC</td>\n      <td>venus-core-pool</td>\n      <td>7e556b84-5836-4803-8204-081dedfd3e84</td>\n      <td>876,958.00</td>\n      <td>False</td>\n      <td>False</td>\n      <td>single</td>\n      <td>True</td>\n      <td>False</td>\n    </tr>\n    <tr>\n      <th>2389</th>\n      <td>2023-11-15</td>\n      <td>BSC</td>\n      <td>venus-core-pool</td>\n      <td>7f81b151-a769-45d3-ae54-ef378633f035</td>\n      <td>743,956.00</td>\n      <td>True</td>\n      <td>False</td>\n      <td>single</td>\n      <td>False</td>\n      <td>False</td>\n    </tr>\n    <tr>\n      <th>3786</th>\n      <td>2023-11-15</td>\n      <td>BSC</td>\n      <td>venus-core-pool</td>\n      <td>e4730d20-a5d5-4959-84ac-42fd32027294</td>\n      <td>325,042.00</td>\n      <td>False</td>\n      <td>False</td>\n      <td>single</td>\n      <td>False</td>\n      <td>False</td>\n    </tr>\n    <tr>\n      <th>5153</th>\n      <td>2023-11-15</td>\n      <td>BSC</td>\n      <td>venus-core-pool</td>\n      <td>7d26311d-e763-43d5-be17-6fd0d8e85b2b</td>\n      <td>177,823.00</td>\n      <td>False</td>\n      <td>False</td>\n      <td>single</td>\n      <td>False</td>\n      <td>False</td>\n    </tr>\n    <tr>\n      <th>6050</th>\n      <td>2023-11-15</td>\n      <td>BSC</td>\n      <td>venus-core-pool</td>\n      <td>f02223ca-a69e-47df-8795-6657a8f829ee</td>\n      <td>125,985.00</td>\n      <td>True</td>\n      <td>False</td>\n      <td>single</td>\n      <td>False</td>\n      <td>False</td>\n    </tr>\n    <tr>\n      <th>6822</th>\n      <td>2023-11-15</td>\n      <td>BSC</td>\n      <td>venus-core-pool</td>\n      <td>70a12369-29da-49ac-b4f2-27828b3a2087</td>\n      <td>86,700.00</td>\n      <td>False</td>\n      <td>False</td>\n      <td>single</td>\n      <td>False</td>\n      <td>False</td>\n    </tr>\n  </tbody>\n</table>\n</div>"
     },
     "execution_count": 30,
     "metadata": {},
     "output_type": "execute_result"
    }
   ],
   "source": [
    "#keep only the date where date=2023-11-15\n",
    "time_data = time_data[time_data['date'] == '2023-11-15']\n",
    "\n",
    "#create a new table summing the TVL per chain where liquid staking is 'False'\n",
    "tvl_per_chain = time_data[time_data['liquid_staker'] == False].groupby(['chain'])['tvlUsd'].sum().reset_index()\n",
    "# sort by TVL\n",
    "tvl_per_chain = tvl_per_chain.sort_values(by=['tvlUsd'], ascending=False)\n",
    "\n",
    "#get the time data for rows where chain = 'BSC' and project = 'venus-core-pool'\n",
    "time_data[(time_data['chain'] == 'BSC') & (time_data['project'] == 'venus-core-pool')]"
   ],
   "metadata": {
    "collapsed": false,
    "ExecuteTime": {
     "end_time": "2023-11-15T05:12:44.754978Z",
     "start_time": "2023-11-15T05:12:44.698440Z"
    }
   },
   "id": "42780bf3ebd3f18a"
  },
  {
   "cell_type": "code",
   "execution_count": 27,
   "outputs": [
    {
     "data": {
      "text/plain": "    chain                         project         tvlUsd\n196   BSC                 venus-core-pool 638,533,079.00\n182   BSC              pancakeswap-amm-v3 232,582,131.00\n181   BSC                 pancakeswap-amm  91,582,825.00\n153   BSC  alpaca-leveraged-yield-farming  81,243,383.00\n171   BSC                  helio-protocol  53,141,445.00\n160   BSC                       biswap-v2  45,277,988.00\n185   BSC                      radiant-v2  32,850,401.00\n191   BSC                       thorchain  29,697,651.00\n198   BSC                 wombat-exchange  29,536,930.00\n167   BSC                           gamma  26,598,359.00\n177   BSC                            mdex  23,683,077.00\n187   BSC                        stargate  20,399,521.00\n183   BSC                          pendle  17,182,454.00\n158   BSC                           beefy  16,284,586.00\n152   BSC              alpaca-finance-2.0   9,137,480.00\n190   BSC                        thena-v1   8,493,386.00\n169   BSC                    green-planet   7,292,388.00\n176   BSC                          magpie   6,827,966.00\n186   BSC                         smardex   4,676,838.00\n150   BSC                        acryptos   4,639,875.00\n165   BSC                ellipsis-finance   4,138,919.00\n163   BSC                          dforce   4,121,113.00\n155   BSC                 apeswap-lending   4,006,818.00\n197   BSC                    wing-finance   3,784,050.00\n156   BSC                        autofarm   3,316,067.00\n199   BSC                  wombex-finance   2,649,589.00\n164   BSC                 dot-dot-finance   2,401,561.00\n200   BSC                      woofi-earn   2,081,363.00\n192   BSC                      tokensfarm   2,059,789.00\n170   BSC                   grizzly-trade   1,489,141.00\n195   BSC                   valas-finance   1,466,635.00\n154   BSC                     apeswap-amm   1,417,855.00\n157   BSC                    babydogeswap   1,222,013.00\n166   BSC                            frax   1,219,505.00\n173   BSC                        joe-v2.1   1,164,635.00\n180   BSC                    openleverage   1,070,940.00\n168   BSC                   goose-finance     531,353.00\n175   BSC               kyberswap-elastic     490,441.00\n151   BSC                       allbridge     335,467.00\n194   BSC                         unsheth     320,346.00\n149   BSC                     abracadabra     301,145.00\n188   BSC                       symbiosis     278,795.00\n184   BSC                  prime-protocol     252,612.00\n161   BSC                     blue-planet     250,925.00\n162   BSC                   deri-protocol     215,126.00\n179   BSC                      morphex-v2     213,865.00\n189   BSC                teahouse-managed     142,791.00\n193   BSC                        uniwhale     118,551.00\n174   BSC                      killswitch      94,178.00\n159   BSC                        betswirl      63,369.00\n178   BSC                           minto      37,466.00\n172   BSC                   hydt-protocol      10,807.00",
      "text/html": "<div>\n<style scoped>\n    .dataframe tbody tr th:only-of-type {\n        vertical-align: middle;\n    }\n\n    .dataframe tbody tr th {\n        vertical-align: top;\n    }\n\n    .dataframe thead th {\n        text-align: right;\n    }\n</style>\n<table border=\"1\" class=\"dataframe\">\n  <thead>\n    <tr style=\"text-align: right;\">\n      <th></th>\n      <th>chain</th>\n      <th>project</th>\n      <th>tvlUsd</th>\n    </tr>\n  </thead>\n  <tbody>\n    <tr>\n      <th>196</th>\n      <td>BSC</td>\n      <td>venus-core-pool</td>\n      <td>638,533,079.00</td>\n    </tr>\n    <tr>\n      <th>182</th>\n      <td>BSC</td>\n      <td>pancakeswap-amm-v3</td>\n      <td>232,582,131.00</td>\n    </tr>\n    <tr>\n      <th>181</th>\n      <td>BSC</td>\n      <td>pancakeswap-amm</td>\n      <td>91,582,825.00</td>\n    </tr>\n    <tr>\n      <th>153</th>\n      <td>BSC</td>\n      <td>alpaca-leveraged-yield-farming</td>\n      <td>81,243,383.00</td>\n    </tr>\n    <tr>\n      <th>171</th>\n      <td>BSC</td>\n      <td>helio-protocol</td>\n      <td>53,141,445.00</td>\n    </tr>\n    <tr>\n      <th>160</th>\n      <td>BSC</td>\n      <td>biswap-v2</td>\n      <td>45,277,988.00</td>\n    </tr>\n    <tr>\n      <th>185</th>\n      <td>BSC</td>\n      <td>radiant-v2</td>\n      <td>32,850,401.00</td>\n    </tr>\n    <tr>\n      <th>191</th>\n      <td>BSC</td>\n      <td>thorchain</td>\n      <td>29,697,651.00</td>\n    </tr>\n    <tr>\n      <th>198</th>\n      <td>BSC</td>\n      <td>wombat-exchange</td>\n      <td>29,536,930.00</td>\n    </tr>\n    <tr>\n      <th>167</th>\n      <td>BSC</td>\n      <td>gamma</td>\n      <td>26,598,359.00</td>\n    </tr>\n    <tr>\n      <th>177</th>\n      <td>BSC</td>\n      <td>mdex</td>\n      <td>23,683,077.00</td>\n    </tr>\n    <tr>\n      <th>187</th>\n      <td>BSC</td>\n      <td>stargate</td>\n      <td>20,399,521.00</td>\n    </tr>\n    <tr>\n      <th>183</th>\n      <td>BSC</td>\n      <td>pendle</td>\n      <td>17,182,454.00</td>\n    </tr>\n    <tr>\n      <th>158</th>\n      <td>BSC</td>\n      <td>beefy</td>\n      <td>16,284,586.00</td>\n    </tr>\n    <tr>\n      <th>152</th>\n      <td>BSC</td>\n      <td>alpaca-finance-2.0</td>\n      <td>9,137,480.00</td>\n    </tr>\n    <tr>\n      <th>190</th>\n      <td>BSC</td>\n      <td>thena-v1</td>\n      <td>8,493,386.00</td>\n    </tr>\n    <tr>\n      <th>169</th>\n      <td>BSC</td>\n      <td>green-planet</td>\n      <td>7,292,388.00</td>\n    </tr>\n    <tr>\n      <th>176</th>\n      <td>BSC</td>\n      <td>magpie</td>\n      <td>6,827,966.00</td>\n    </tr>\n    <tr>\n      <th>186</th>\n      <td>BSC</td>\n      <td>smardex</td>\n      <td>4,676,838.00</td>\n    </tr>\n    <tr>\n      <th>150</th>\n      <td>BSC</td>\n      <td>acryptos</td>\n      <td>4,639,875.00</td>\n    </tr>\n    <tr>\n      <th>165</th>\n      <td>BSC</td>\n      <td>ellipsis-finance</td>\n      <td>4,138,919.00</td>\n    </tr>\n    <tr>\n      <th>163</th>\n      <td>BSC</td>\n      <td>dforce</td>\n      <td>4,121,113.00</td>\n    </tr>\n    <tr>\n      <th>155</th>\n      <td>BSC</td>\n      <td>apeswap-lending</td>\n      <td>4,006,818.00</td>\n    </tr>\n    <tr>\n      <th>197</th>\n      <td>BSC</td>\n      <td>wing-finance</td>\n      <td>3,784,050.00</td>\n    </tr>\n    <tr>\n      <th>156</th>\n      <td>BSC</td>\n      <td>autofarm</td>\n      <td>3,316,067.00</td>\n    </tr>\n    <tr>\n      <th>199</th>\n      <td>BSC</td>\n      <td>wombex-finance</td>\n      <td>2,649,589.00</td>\n    </tr>\n    <tr>\n      <th>164</th>\n      <td>BSC</td>\n      <td>dot-dot-finance</td>\n      <td>2,401,561.00</td>\n    </tr>\n    <tr>\n      <th>200</th>\n      <td>BSC</td>\n      <td>woofi-earn</td>\n      <td>2,081,363.00</td>\n    </tr>\n    <tr>\n      <th>192</th>\n      <td>BSC</td>\n      <td>tokensfarm</td>\n      <td>2,059,789.00</td>\n    </tr>\n    <tr>\n      <th>170</th>\n      <td>BSC</td>\n      <td>grizzly-trade</td>\n      <td>1,489,141.00</td>\n    </tr>\n    <tr>\n      <th>195</th>\n      <td>BSC</td>\n      <td>valas-finance</td>\n      <td>1,466,635.00</td>\n    </tr>\n    <tr>\n      <th>154</th>\n      <td>BSC</td>\n      <td>apeswap-amm</td>\n      <td>1,417,855.00</td>\n    </tr>\n    <tr>\n      <th>157</th>\n      <td>BSC</td>\n      <td>babydogeswap</td>\n      <td>1,222,013.00</td>\n    </tr>\n    <tr>\n      <th>166</th>\n      <td>BSC</td>\n      <td>frax</td>\n      <td>1,219,505.00</td>\n    </tr>\n    <tr>\n      <th>173</th>\n      <td>BSC</td>\n      <td>joe-v2.1</td>\n      <td>1,164,635.00</td>\n    </tr>\n    <tr>\n      <th>180</th>\n      <td>BSC</td>\n      <td>openleverage</td>\n      <td>1,070,940.00</td>\n    </tr>\n    <tr>\n      <th>168</th>\n      <td>BSC</td>\n      <td>goose-finance</td>\n      <td>531,353.00</td>\n    </tr>\n    <tr>\n      <th>175</th>\n      <td>BSC</td>\n      <td>kyberswap-elastic</td>\n      <td>490,441.00</td>\n    </tr>\n    <tr>\n      <th>151</th>\n      <td>BSC</td>\n      <td>allbridge</td>\n      <td>335,467.00</td>\n    </tr>\n    <tr>\n      <th>194</th>\n      <td>BSC</td>\n      <td>unsheth</td>\n      <td>320,346.00</td>\n    </tr>\n    <tr>\n      <th>149</th>\n      <td>BSC</td>\n      <td>abracadabra</td>\n      <td>301,145.00</td>\n    </tr>\n    <tr>\n      <th>188</th>\n      <td>BSC</td>\n      <td>symbiosis</td>\n      <td>278,795.00</td>\n    </tr>\n    <tr>\n      <th>184</th>\n      <td>BSC</td>\n      <td>prime-protocol</td>\n      <td>252,612.00</td>\n    </tr>\n    <tr>\n      <th>161</th>\n      <td>BSC</td>\n      <td>blue-planet</td>\n      <td>250,925.00</td>\n    </tr>\n    <tr>\n      <th>162</th>\n      <td>BSC</td>\n      <td>deri-protocol</td>\n      <td>215,126.00</td>\n    </tr>\n    <tr>\n      <th>179</th>\n      <td>BSC</td>\n      <td>morphex-v2</td>\n      <td>213,865.00</td>\n    </tr>\n    <tr>\n      <th>189</th>\n      <td>BSC</td>\n      <td>teahouse-managed</td>\n      <td>142,791.00</td>\n    </tr>\n    <tr>\n      <th>193</th>\n      <td>BSC</td>\n      <td>uniwhale</td>\n      <td>118,551.00</td>\n    </tr>\n    <tr>\n      <th>174</th>\n      <td>BSC</td>\n      <td>killswitch</td>\n      <td>94,178.00</td>\n    </tr>\n    <tr>\n      <th>159</th>\n      <td>BSC</td>\n      <td>betswirl</td>\n      <td>63,369.00</td>\n    </tr>\n    <tr>\n      <th>178</th>\n      <td>BSC</td>\n      <td>minto</td>\n      <td>37,466.00</td>\n    </tr>\n    <tr>\n      <th>172</th>\n      <td>BSC</td>\n      <td>hydt-protocol</td>\n      <td>10,807.00</td>\n    </tr>\n  </tbody>\n</table>\n</div>"
     },
     "execution_count": 27,
     "metadata": {},
     "output_type": "execute_result"
    }
   ],
   "source": [
    "# create a table that sums the TVL per project per chain where liquid staking is 'False'\n",
    "tvl_per_project = time_data[time_data['liquid_staker'] == False].groupby(['chain', 'project'])['tvlUsd'].sum().reset_index()\n",
    "\n",
    "# sort by TVL\n",
    "tvl_per_project = tvl_per_project.sort_values(by=['tvlUsd'], ascending=False)\n",
    "\n",
    "# show the table where Chain = 'Tron'\n",
    "tvl_per_project[tvl_per_project['chain'] == 'BSC']"
   ],
   "metadata": {
    "collapsed": false,
    "ExecuteTime": {
     "end_time": "2023-11-15T05:09:54.134151Z",
     "start_time": "2023-11-15T05:09:54.080894Z"
    }
   },
   "id": "7623954b627d6770"
  }
 ],
 "metadata": {
  "kernelspec": {
   "display_name": "Python 3",
   "language": "python",
   "name": "python3"
  },
  "language_info": {
   "codemirror_mode": {
    "name": "ipython",
    "version": 2
   },
   "file_extension": ".py",
   "mimetype": "text/x-python",
   "name": "python",
   "nbconvert_exporter": "python",
   "pygments_lexer": "ipython2",
   "version": "2.7.6"
  }
 },
 "nbformat": 4,
 "nbformat_minor": 5
}
